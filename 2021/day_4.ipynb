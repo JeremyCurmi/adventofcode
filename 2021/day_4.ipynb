{
 "cells": [
  {
   "cell_type": "code",
   "execution_count": 175,
   "metadata": {},
   "outputs": [],
   "source": [
    "import numpy as np\n",
    "import pandas as pd"
   ]
  },
  {
   "cell_type": "markdown",
   "metadata": {},
   "source": [
    "# Part 1"
   ]
  },
  {
   "cell_type": "code",
   "execution_count": 114,
   "metadata": {},
   "outputs": [
    {
     "data": {
      "text/plain": [
       "['22 13 17 11  0',\n",
       " '8  2 23  4 24',\n",
       " '21  9 14 16  7',\n",
       " '6 10  3 18  5',\n",
       " '1 12 20 15 19',\n",
       " '',\n",
       " '3 15  0  2 22',\n",
       " ' 9 18 13 17  5',\n",
       " '19  8  7 25 23',\n",
       " '20 11 10 24  4',\n",
       " '14 21 16 12  6',\n",
       " '',\n",
       " '14 21 17 24  4',\n",
       " '10 16 15  9 19',\n",
       " '18  8 23 26 20',\n",
       " '22 11 13  6  5',\n",
       " '2  0 12  3  7']"
      ]
     },
     "execution_count": 114,
     "metadata": {},
     "output_type": "execute_result"
    }
   ],
   "source": [
    "line_data_test = [7,4,9,5,11,17,23,2,0,14,21,24,10,16,13,6,15,25,12,22,18,20,8,19,3,26,1]\n",
    "\n",
    "data_test = ['22 13 17 11  0',\n",
    " '8  2 23  4 24',\n",
    "'21  9 14 16  7',\n",
    " '6 10  3 18  5',\n",
    " '1 12 20 15 19','',\n",
    " '3 15  0  2 22',\n",
    "' 9 18 13 17  5',\n",
    "'19  8  7 25 23',\n",
    "'20 11 10 24  4',\n",
    "'14 21 16 12  6','',\n",
    "'14 21 17 24  4',\n",
    "'10 16 15  9 19',\n",
    "'18  8 23 26 20',\n",
    "'22 11 13  6  5',\n",
    " '2  0 12  3  7']\n",
    "\n",
    "data_test"
   ]
  },
  {
   "cell_type": "code",
   "execution_count": 221,
   "metadata": {},
   "outputs": [
    {
     "data": {
      "text/plain": [
       "['48 69 68 49 13',\n",
       " '25 14 30 74 89',\n",
       " '16 38 19 24 29',\n",
       " '56 97 50 65 79',\n",
       " '57 52  5 27 76',\n",
       " '',\n",
       " '65 69 73 60 66',\n",
       " '79 23 95 32 56',\n",
       " '36 51 26  1 28',\n",
       " '76  9  3 71 77',\n",
       " '41 15 61 68 14',\n",
       " '',\n",
       " '77 86 11 96 50',\n",
       " '64 35 76 14  5',\n",
       " '31 20 53 84 66',\n",
       " '83 40  1 28 79',\n",
       " '15 74 92 65 39',\n",
       " '']"
      ]
     },
     "execution_count": 221,
     "metadata": {},
     "output_type": "execute_result"
    }
   ],
   "source": [
    "line_data = open('day_4_input_1.txt', 'r').read()\n",
    "line_data=line_data.strip()\n",
    "line_data = line_data.split(',')\n",
    "line_data = [int(x) for x in line_data]\n",
    "# line_data = line_data[:5]\n",
    "line_data\n",
    "\n",
    "data = open('day_4_input.txt', 'r').read()\n",
    "data = data.split('\\n')\n",
    "# data = data[:18]\n",
    "data[:18]"
   ]
  },
  {
   "cell_type": "code",
   "execution_count": 239,
   "metadata": {},
   "outputs": [],
   "source": [
    "def data_ingestion(data: list) -> list:\n",
    "    idx = []\n",
    "    for i, v in enumerate(data):\n",
    "        if i == 0:\n",
    "            x_i = i*5\n",
    "        else:\n",
    "            x_i = i*5 + i\n",
    "        x_j = x_i + 5\n",
    "        idx.append([x_i, x_j])\n",
    "\n",
    "    df_list = []\n",
    "    for id in idx:\n",
    "        df_idx = data[id[0]:id[1]]\n",
    "        if df_idx == []:\n",
    "            break\n",
    "        \n",
    "        # clean double space\n",
    "        for i, line in enumerate(df_idx):\n",
    "            df_idx[i] = line.strip().replace('  ',' ')\n",
    "        \n",
    "        df_idx = pd.DataFrame(df_idx)[0].str.split(' ',expand=True)\n",
    "        df_idx[list(range(0,5))] = df_idx[list(range(0,5))].astype(int)\n",
    "        df_list.append(df_idx)\n",
    "    return df_list\n",
    "\n",
    "def check_for_bingo(df: pd.DataFrame, numbers: list):\n",
    "    for idx in df:\n",
    "        col_count = df.iloc[:,idx].isin(numbers).sum()\n",
    "        row_count = df.iloc[idx,:].isin(numbers).sum()\n",
    "        if col_count == 5 or row_count == 5:\n",
    "            return True\n",
    "    return False\n",
    "\n",
    "def calculate_score(df: pd.DataFrame, numbers: list) -> int:\n",
    "    data = []\n",
    "    for idx in df:\n",
    "        data.extend(df.iloc[idx,:].values.tolist())\n",
    "    not_highlighted_values = [x for x in data if x not in numbers]\n",
    "    sum_ = np.sum(not_highlighted_values)\n",
    "    return sum_*numbers[-1]\n",
    "\n",
    "def bingo(dataset: list, numbers: list):\n",
    "    for i in range(1,len(numbers)+1):\n",
    "        nums = numbers[:i]\n",
    "        for i, df in enumerate(dataset):\n",
    "            is_bingo = check_for_bingo(df, nums)\n",
    "            if is_bingo:\n",
    "                return calculate_score(df, nums)\n",
    "            \n",
    "def bingo_part_2(dataset: list, numbers: list):\n",
    "    finished_boards_idx = []\n",
    "    total_boards = len(dataset)\n",
    "    for i in range(1,len(numbers)+1):\n",
    "        nums = numbers[:i]\n",
    "        if len(finished_boards_idx) + 1 == total_boards:\n",
    "            board_solution = [x for x in range(0,len(dataset)) if x not in finished_boards_idx][0]\n",
    "            return calculate_score(dataset[board_solution], nums)\n",
    "        for i, df in enumerate(dataset):\n",
    "            is_bingo = check_for_bingo(df, nums)\n",
    "            if is_bingo and i not in finished_boards_idx:\n",
    "                finished_boards_idx.append(i)"
   ]
  },
  {
   "cell_type": "markdown",
   "metadata": {},
   "source": [
    "## test data"
   ]
  },
  {
   "cell_type": "code",
   "execution_count": 228,
   "metadata": {},
   "outputs": [
    {
     "data": {
      "text/plain": [
       "4512"
      ]
     },
     "execution_count": 228,
     "metadata": {},
     "output_type": "execute_result"
    }
   ],
   "source": [
    "df_list= data_ingestion(data_test)\n",
    "bingo(df_list, line_data_test)"
   ]
  },
  {
   "cell_type": "code",
   "execution_count": 240,
   "metadata": {},
   "outputs": [
    {
     "data": {
      "text/plain": [
       "1924"
      ]
     },
     "execution_count": 240,
     "metadata": {},
     "output_type": "execute_result"
    }
   ],
   "source": [
    "df_list= data_ingestion(data_test)\n",
    "bingo_part_2(df_list, line_data_test)"
   ]
  },
  {
   "cell_type": "code",
   "execution_count": 222,
   "metadata": {},
   "outputs": [
    {
     "data": {
      "text/plain": [
       "16674"
      ]
     },
     "execution_count": 222,
     "metadata": {},
     "output_type": "execute_result"
    }
   ],
   "source": [
    "df_list= data_ingestion(data)\n",
    "bingo(df_list, line_data)"
   ]
  },
  {
   "cell_type": "code",
   "execution_count": 242,
   "metadata": {},
   "outputs": [
    {
     "data": {
      "text/plain": [
       "7075"
      ]
     },
     "execution_count": 242,
     "metadata": {},
     "output_type": "execute_result"
    }
   ],
   "source": [
    "df_list= data_ingestion(data)\n",
    "bingo_part_2(df_list, line_data)"
   ]
  }
 ],
 "metadata": {
  "interpreter": {
   "hash": "c9450414bf23f3dd29b5b05a150ab805ddf54e50a477ec96525535ab209d16c9"
  },
  "kernelspec": {
   "display_name": "Python 3.8.10 64-bit ('main': conda)",
   "language": "python",
   "name": "python3"
  },
  "language_info": {
   "codemirror_mode": {
    "name": "ipython",
    "version": 3
   },
   "file_extension": ".py",
   "mimetype": "text/x-python",
   "name": "python",
   "nbconvert_exporter": "python",
   "pygments_lexer": "ipython3",
   "version": "3.8.10"
  },
  "orig_nbformat": 4
 },
 "nbformat": 4,
 "nbformat_minor": 2
}
