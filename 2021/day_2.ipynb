{
 "cells": [
  {
   "cell_type": "code",
   "execution_count": null,
   "metadata": {},
   "outputs": [],
   "source": [
    "import numpy as np"
   ]
  },
  {
   "cell_type": "markdown",
   "metadata": {},
   "source": [
    "# Part 1"
   ]
  },
  {
   "cell_type": "code",
   "execution_count": 75,
   "metadata": {},
   "outputs": [
    {
     "data": {
      "text/plain": [
       "array([['forward', 2],\n",
       "       ['down', 9],\n",
       "       ['up', 6],\n",
       "       ['forward', 1],\n",
       "       ['down', 5]], dtype=object)"
      ]
     },
     "execution_count": 75,
     "metadata": {},
     "output_type": "execute_result"
    }
   ],
   "source": [
    "data = open('day_2_input.txt', 'r').read()\n",
    "data = data.split('\\n')\n",
    "data = [x.split(' ') for x in data]\n",
    "data = np.array(data)\n",
    "data = data.astype('object')\n",
    "data[:,1] = data[:,1].astype(int)\n",
    "data[:5]"
   ]
  },
  {
   "cell_type": "code",
   "execution_count": 76,
   "metadata": {},
   "outputs": [
    {
     "data": {
      "text/plain": [
       "array([['forward', 5],\n",
       "       ['down', 5],\n",
       "       ['forward', 8],\n",
       "       ['up', 3],\n",
       "       ['down', 8],\n",
       "       ['forward', 2]], dtype=object)"
      ]
     },
     "execution_count": 76,
     "metadata": {},
     "output_type": "execute_result"
    }
   ],
   "source": [
    "test_data = np.array([['forward', 5],\n",
    "       ['down', 5],\n",
    "       ['forward', 8],\n",
    "       ['up', 3],\n",
    "       ['down', 8],\n",
    "       ['forward', 2]], dtype=object)\n",
    "test_data"
   ]
  },
  {
   "cell_type": "code",
   "execution_count": 77,
   "metadata": {},
   "outputs": [
    {
     "data": {
      "text/plain": [
       "15"
      ]
     },
     "execution_count": 77,
     "metadata": {},
     "output_type": "execute_result"
    }
   ],
   "source": [
    "def count_forward(data: list) -> int:\n",
    "    return np.sum(data[data[:,0] == 'forward',1])\n",
    "count_forward(test_data)"
   ]
  },
  {
   "cell_type": "code",
   "execution_count": 78,
   "metadata": {},
   "outputs": [
    {
     "data": {
      "text/plain": [
       "10"
      ]
     },
     "execution_count": 78,
     "metadata": {},
     "output_type": "execute_result"
    }
   ],
   "source": [
    "def count_depth(data: list) -> int:\n",
    "    return np.sum(data[data[:,0]=='down',1]) - np.sum(data[data[:,0]=='up',1])\n",
    "count_depth(test_data)"
   ]
  },
  {
   "cell_type": "code",
   "execution_count": 79,
   "metadata": {},
   "outputs": [
    {
     "data": {
      "text/plain": [
       "2070300"
      ]
     },
     "execution_count": 79,
     "metadata": {},
     "output_type": "execute_result"
    }
   ],
   "source": [
    "solution = count_forward(data) * count_depth(data)\n",
    "solution"
   ]
  },
  {
   "cell_type": "markdown",
   "metadata": {},
   "source": [
    "# Part 2"
   ]
  },
  {
   "cell_type": "code",
   "execution_count": 97,
   "metadata": {},
   "outputs": [
    {
     "name": "stdout",
     "output_type": "stream",
     "text": [
      "15 60 10 Solution: 900\n"
     ]
    }
   ],
   "source": [
    "def part_2(data: list):\n",
    "    x = 0\n",
    "    y = 0\n",
    "    aim = 0\n",
    "    for i in data:\n",
    "        dir = i[0]\n",
    "        mag = i[1]\n",
    "        \n",
    "        if dir == 'up':\n",
    "            aim -= mag\n",
    "        elif dir == 'down':\n",
    "            aim += mag\n",
    "        else:\n",
    "            x += mag\n",
    "            y += aim*mag\n",
    "            \n",
    "    print(x,y,aim, 'Solution: {}'.format(x*y))\n",
    "    \n",
    "part_2(test_data)"
   ]
  },
  {
   "cell_type": "code",
   "execution_count": 98,
   "metadata": {},
   "outputs": [
    {
     "name": "stdout",
     "output_type": "stream",
     "text": [
      "2010 1034321 1030 Solution: 2078985210\n"
     ]
    }
   ],
   "source": [
    "part_2(data)"
   ]
  },
  {
   "cell_type": "markdown",
   "metadata": {},
   "source": []
  }
 ],
 "metadata": {
  "interpreter": {
   "hash": "40d3a090f54c6569ab1632332b64b2c03c39dcf918b08424e98f38b5ae0af88f"
  },
  "kernelspec": {
   "display_name": "Python 3.8.8 64-bit ('base': conda)",
   "language": "python",
   "name": "python3"
  },
  "language_info": {
   "codemirror_mode": {
    "name": "ipython",
    "version": 3
   },
   "file_extension": ".py",
   "mimetype": "text/x-python",
   "name": "python",
   "nbconvert_exporter": "python",
   "pygments_lexer": "ipython3",
   "version": "3.8.8"
  },
  "orig_nbformat": 4
 },
 "nbformat": 4,
 "nbformat_minor": 2
}
