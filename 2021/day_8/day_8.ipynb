{
 "cells": [
  {
   "cell_type": "code",
   "execution_count": 66,
   "metadata": {},
   "outputs": [
    {
     "name": "stdout",
     "output_type": "stream",
     "text": [
      "0 ['a', 'b', 'c', 'e', 'f', 'g'] 6\n",
      "1 ['c', 'f'] 2\n",
      "2 ['a', 'c', 'd', 'e', 'g'] 5\n",
      "3 ['a', 'c', 'd', 'f', 'g'] 5\n",
      "4 ['b', 'c', 'd', 'f'] 4\n",
      "5 ['a', 'b', 'd', 'f', 'g'] 5\n",
      "6 ['a', 'b', 'd', 'e', 'f', 'g'] 6\n",
      "7 ['a', 'c', 'f'] 3\n",
      "8 ['a', 'b', 'c', 'd', 'e', 'f', 'g'] 7\n",
      "9 ['a', 'b', 'c', 'd', 'f', 'g'] 6\n"
     ]
    }
   ],
   "source": [
    "d=[['a','b','c','e','f','g'],\n",
    "              ['c','f'],\n",
    "              ['a','c','d','e','g'],\n",
    "              ['a','c','d','f','g'],\n",
    "              ['b','c','d','f'],\n",
    "              ['a','b','d','f','g'],\n",
    "              ['a','b','d','e','f','g'],\n",
    "              ['a','c','f'],\n",
    "              ['a','b','c','d','e','f','g'],\n",
    "              ['a','b','c','d','f','g']\n",
    "]\n",
    "for i,v in enumerate(d):\n",
    "    print(i,v,len(v))"
   ]
  },
  {
   "cell_type": "code",
   "execution_count": 67,
   "metadata": {},
   "outputs": [
    {
     "name": "stdout",
     "output_type": "stream",
     "text": [
      "1 ['c', 'f'] 2\n",
      "4 ['b', 'c', 'd', 'f'] 4\n",
      "7 ['a', 'c', 'f'] 3\n",
      "8 ['a', 'b', 'c', 'd', 'e', 'f', 'g'] 7\n"
     ]
    }
   ],
   "source": [
    "for i,v in enumerate(d):\n",
    "    if i in [1,4,7,8]:\n",
    "        print(i,v,len(v)) "
   ]
  },
  {
   "cell_type": "code",
   "execution_count": 68,
   "metadata": {},
   "outputs": [],
   "source": [
    "def load_data(file:str):\n",
    "    raw = open(file, 'r').read()\n",
    "    raw = raw.split('\\n')\n",
    "    data=[]\n",
    "    for i,_ in enumerate(raw):\n",
    "        data.append(raw[i].split('|'))\n",
    "    return data\n",
    "t = load_data('day_8_test.txt')\n",
    "data = load_data('day_8_input.txt')"
   ]
  },
  {
   "cell_type": "markdown",
   "metadata": {},
   "source": [
    "# Part 1"
   ]
  },
  {
   "cell_type": "code",
   "execution_count": 225,
   "metadata": {},
   "outputs": [],
   "source": [
    "tmp = data"
   ]
  },
  {
   "cell_type": "code",
   "execution_count": 228,
   "metadata": {},
   "outputs": [],
   "source": [
    "t1 = [x[1].strip() for x in tmp]\n",
    "t0 = [x[0].strip() for x in tmp]"
   ]
  },
  {
   "cell_type": "code",
   "execution_count": 71,
   "metadata": {},
   "outputs": [
    {
     "data": {
      "text/plain": [
       "{1: 2, 4: 4, 7: 3, 8: 7}"
      ]
     },
     "execution_count": 71,
     "metadata": {},
     "output_type": "execute_result"
    }
   ],
   "source": [
    "dt = {}\n",
    "for i,v in enumerate(d):\n",
    "    if i in [1,4,7,8]:\n",
    "        dt[i] = len(v)\n",
    "dt"
   ]
  },
  {
   "cell_type": "code",
   "execution_count": 72,
   "metadata": {},
   "outputs": [],
   "source": [
    "counter=0\n",
    "for i in t1:\n",
    "    for val in i.split(' '):\n",
    "        if len(val) in list(dt.values()):\n",
    "            counter+=1"
   ]
  },
  {
   "cell_type": "code",
   "execution_count": 73,
   "metadata": {},
   "outputs": [
    {
     "data": {
      "text/plain": [
       "26"
      ]
     },
     "execution_count": 73,
     "metadata": {},
     "output_type": "execute_result"
    }
   ],
   "source": [
    "counter"
   ]
  },
  {
   "cell_type": "markdown",
   "metadata": {},
   "source": [
    "# Part 2"
   ]
  },
  {
   "cell_type": "code",
   "execution_count": 95,
   "metadata": {},
   "outputs": [
    {
     "data": {
      "text/plain": [
       "['be cfbegad cbdgef fgaecd cgeb fdcge agebfd fecdb fabcd edb',\n",
       " 'edbfga begcd cbg gc gcadebf fbgde acbgfd abcde gfcbed gfec',\n",
       " 'fgaebd cg bdaec gdafb agbcfd gdcbef bgcad gfac gcb cdgabef',\n",
       " 'fbegcd cbd adcefb dageb afcb bc aefdc ecdab fgdeca fcdbega',\n",
       " 'aecbfdg fbg gf bafeg dbefa fcge gcbea fcaegb dgceab fcbdga',\n",
       " 'fgeab ca afcebg bdacfeg cfaedg gcfdb baec bfadeg bafgc acf',\n",
       " 'dbcfg fgd bdegcaf fgec aegbdf ecdfab fbedc dacgb gdcebf gf',\n",
       " 'bdfegc cbegaf gecbf dfcage bdacg ed bedf ced adcbefg gebcd',\n",
       " 'egadfb cdbfeg cegd fecab cgb gbdefca cg fgcdab egfdb bfceg',\n",
       " 'gcafb gcf dcaebfg ecagb gf abcdeg gaef cafbge fdbac fegbdc']"
      ]
     },
     "execution_count": 95,
     "metadata": {},
     "output_type": "execute_result"
    }
   ],
   "source": [
    "t0 = [x[0].strip() for x in tmp]\n",
    "t0"
   ]
  },
  {
   "cell_type": "code",
   "execution_count": 110,
   "metadata": {},
   "outputs": [
    {
     "name": "stdout",
     "output_type": "stream",
     "text": [
      "58 1\n",
      "[['acedgfb']]\n"
     ]
    }
   ],
   "source": [
    "test = ['acedgfb cdfbe gcdfa fbcad dab cefabd cdfgeb eafb cagedb ab']\n",
    "counter = 0\n",
    "eights = []\n",
    "for i in test:\n",
    "    tmps = []\n",
    "    for j in i.split(' '):\n",
    "        if len(j) == 7:\n",
    "            counter +=1\n",
    "            tmps.append(j)\n",
    "    eights.append(tmps)\n",
    "print(len(i), counter)\n",
    "print(eights)"
   ]
  },
  {
   "cell_type": "code",
   "execution_count": 177,
   "metadata": {},
   "outputs": [],
   "source": [
    "test0 = 'acedgfb cdfbe gcdfa fbcad dab cefabd cdfgeb eafb cagedb ab'\n",
    "test1 = 'cdfeb fcadb cdfeb cdbaf'"
   ]
  },
  {
   "cell_type": "code",
   "execution_count": 256,
   "metadata": {},
   "outputs": [],
   "source": [
    "def get_pattern(code: str):\n",
    "    code_ = code.split(' ')\n",
    "    def get_easy_digits(code_):\n",
    "        d = dict(zip(list(range(0,10)),''*10))\n",
    "        for c in code_:\n",
    "            if len(c) == 2:\n",
    "                d[1] = sorted(list(set(c)))\n",
    "            elif len(c) == 3:\n",
    "                d[7] = sorted(list(set(c)))\n",
    "            elif len(c) == 4:\n",
    "                d[4] = sorted(list(set(c)))\n",
    "            elif len(c) == 7:\n",
    "                d[8] = sorted(list(set(c)))\n",
    "        return d\n",
    "    def len_list_intersection(a, b):\n",
    "        return len(list(set(a) & set(b)))\n",
    "    \n",
    "    d = get_easy_digits(code_)\n",
    "    for c in code_:\n",
    "        uniq = sorted(list(set(c)))\n",
    "        if len(c) == 5:\n",
    "            if len_list_intersection(uniq,d[7]) == 3:\n",
    "                d[3] = uniq\n",
    "            elif len_list_intersection(uniq,d[4]) == 3:\n",
    "                d[5] = uniq\n",
    "            else:\n",
    "                d[2] = uniq\n",
    "        if len(c) == 6:\n",
    "            if len_list_intersection(uniq, d[7]) == 2:\n",
    "                d[6] = uniq\n",
    "            elif len_list_intersection(uniq, d[4]) == 4:\n",
    "                d[9] = uniq\n",
    "            else:\n",
    "                d[0] = uniq\n",
    "    \n",
    "    return d\n",
    "       \n",
    "def map_pattern(d: dict, code: str):\n",
    "    dec = {''.join(value):key for (key,value) in d.items()}\n",
    "    val = ''\n",
    "    for c in code.split(' '):\n",
    "        uniq  = ''.join(sorted(list(set(c))))\n",
    "        val+=str(dec[uniq])\n",
    "    return int(val)\n",
    "    "
   ]
  },
  {
   "cell_type": "code",
   "execution_count": 257,
   "metadata": {},
   "outputs": [],
   "source": [
    "def load_data(file:str):\n",
    "    raw = open(file, 'r').read()\n",
    "    raw = raw.split('\\n')\n",
    "    data=[]\n",
    "    for i,_ in enumerate(raw):\n",
    "        data.append(raw[i].split('|'))\n",
    "    return data\n",
    "t = load_data('day_8_test.txt')\n",
    "data = load_data('day_8_input.txt')"
   ]
  },
  {
   "cell_type": "code",
   "execution_count": 273,
   "metadata": {},
   "outputs": [
    {
     "data": {
      "text/plain": [
       "'ceg gedcfb ec eabfdg gcdabe baged cabgf gbaec fecagdb eacd'"
      ]
     },
     "execution_count": 273,
     "metadata": {},
     "output_type": "execute_result"
    }
   ],
   "source": [
    "tmp = data\n",
    "tmp\n",
    "t1 = [x[1].strip() for x in tmp]\n",
    "t0 = [x[0].strip() for x in tmp]\n",
    "t0[0]"
   ]
  },
  {
   "cell_type": "code",
   "execution_count": 274,
   "metadata": {},
   "outputs": [
    {
     "data": {
      "text/plain": [
       "{7: ['c', 'e', 'g'],\n",
       " 1: ['c', 'e'],\n",
       " 8: ['a', 'b', 'c', 'd', 'e', 'f', 'g'],\n",
       " 4: ['a', 'c', 'd', 'e'],\n",
       " 0: ['b', 'c', 'd', 'e', 'f', 'g'],\n",
       " 6: ['a', 'b', 'd', 'e', 'f', 'g'],\n",
       " 9: ['a', 'b', 'c', 'd', 'e', 'g'],\n",
       " 5: ['a', 'b', 'd', 'e', 'g'],\n",
       " 2: ['a', 'b', 'c', 'f', 'g'],\n",
       " 3: ['a', 'b', 'c', 'e', 'g']}"
      ]
     },
     "execution_count": 274,
     "metadata": {},
     "output_type": "execute_result"
    }
   ],
   "source": [
    "d = get_pattern(t0[0])\n",
    "d"
   ]
  },
  {
   "cell_type": "code",
   "execution_count": 275,
   "metadata": {},
   "outputs": [
    {
     "data": {
      "text/plain": [
       "8873"
      ]
     },
     "execution_count": 275,
     "metadata": {},
     "output_type": "execute_result"
    }
   ],
   "source": [
    "map_pattern(d, t1[0])"
   ]
  },
  {
   "cell_type": "code",
   "execution_count": 276,
   "metadata": {},
   "outputs": [
    {
     "data": {
      "text/plain": [
       "973499"
      ]
     },
     "execution_count": 276,
     "metadata": {},
     "output_type": "execute_result"
    }
   ],
   "source": [
    "sum_ = 0\n",
    "for t, v in zip(t0, t1):\n",
    "    d = get_pattern(t)\n",
    "    val = map_pattern(d, v)\n",
    "    sum_+=val\n",
    "sum_"
   ]
  },
  {
   "cell_type": "code",
   "execution_count": null,
   "metadata": {},
   "outputs": [],
   "source": []
  }
 ],
 "metadata": {
  "interpreter": {
   "hash": "c9450414bf23f3dd29b5b05a150ab805ddf54e50a477ec96525535ab209d16c9"
  },
  "kernelspec": {
   "display_name": "Python 3.8.10 64-bit ('main': conda)",
   "language": "python",
   "name": "python3"
  },
  "language_info": {
   "codemirror_mode": {
    "name": "ipython",
    "version": 3
   },
   "file_extension": ".py",
   "mimetype": "text/x-python",
   "name": "python",
   "nbconvert_exporter": "python",
   "pygments_lexer": "ipython3",
   "version": "3.8.10"
  },
  "orig_nbformat": 4
 },
 "nbformat": 4,
 "nbformat_minor": 2
}
