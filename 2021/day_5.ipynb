{
 "cells": [
  {
   "cell_type": "code",
   "execution_count": 35,
   "metadata": {},
   "outputs": [],
   "source": [
    "import numpy as np\n",
    "import pandas as pd\n",
    "from typing import Tuple"
   ]
  },
  {
   "cell_type": "markdown",
   "metadata": {},
   "source": [
    "# Part 1"
   ]
  },
  {
   "cell_type": "code",
   "execution_count": 110,
   "metadata": {},
   "outputs": [],
   "source": [
    "def load_data(file: str) -> pd.DataFrame:\n",
    "    raw_data = open(file,'r').read()\n",
    "    raw_data = raw_data.split('\\n')\n",
    "    raw_data = [x.split(' -> ') for x in raw_data]\n",
    "    \n",
    "    data = pd.DataFrame(raw_data)\n",
    "    df_1 = data[0].str.split(',',expand=True)\n",
    "    df_1[[0,1]] = df_1[[0,1]].astype(int)\n",
    "    df_1.columns = ['x_1','y_1']\n",
    "    df_2 = data[1].str.split(',',expand=True)\n",
    "    df_2[[0,1]] = df_2[[0,1]].astype(int)\n",
    "    df_2.columns = ['x_2','y_2']\n",
    "    \n",
    "    return df_1.merge(df_2, left_index=True, right_index=True)\n",
    "\n",
    "def calculate_matrix_size(df: pd.DataFrame) -> int:\n",
    "    x = df[['x_1', 'x_2']].max().max()\n",
    "    y = df[['y_1', 'y_2']].max().max()\n",
    "    return np.max([x,y])\n",
    "\n",
    "def get_board_df(dimensions: int) -> pd.DataFrame:\n",
    "    return pd.DataFrame(np.zeros((dimensions+1, dimensions+1)))"
   ]
  },
  {
   "cell_type": "code",
   "execution_count": 245,
   "metadata": {},
   "outputs": [],
   "source": [
    "def part_1(file: str):\n",
    "    data = load_data(file)\n",
    "    max_idx = calculate_matrix_size(data)\n",
    "    board = get_board_df(max_idx)\n",
    "    \n",
    "    for i, d in data.iterrows():\n",
    "             \n",
    "        idx_1 = 'x_1' if d['x_1'] < d['x_2'] else 'x_2'\n",
    "        idx_2 = 'x_1' if idx_1 == 'x_2' else 'x_2'\n",
    "        \n",
    "        idy_1 = 'y_1' if d['y_1'] < d['y_2'] else 'y_2'\n",
    "        idy_2 = 'y_1' if idy_1 == 'y_2' else 'y_2'\n",
    "        if d['x_1'] == d['x_2'] or d['y_1'] == d['y_2']:  \n",
    "            board.iloc[d[idy_1]:d[idy_2]+1,d[idx_1]:d[idx_2]+1] += 1\n",
    "    counter = 0\n",
    "    for col in board:\n",
    "        counter += board[board[col] >=2].shape[0]\n",
    "    return counter"
   ]
  },
  {
   "cell_type": "code",
   "execution_count": 246,
   "metadata": {},
   "outputs": [
    {
     "data": {
      "text/plain": [
       "5"
      ]
     },
     "execution_count": 246,
     "metadata": {},
     "output_type": "execute_result"
    }
   ],
   "source": [
    "part_1('day_5_input_test.txt')"
   ]
  },
  {
   "cell_type": "code",
   "execution_count": 247,
   "metadata": {},
   "outputs": [
    {
     "data": {
      "text/plain": [
       "6311"
      ]
     },
     "execution_count": 247,
     "metadata": {},
     "output_type": "execute_result"
    }
   ],
   "source": [
    "part_1('day_5_input.txt')"
   ]
  },
  {
   "cell_type": "code",
   "execution_count": 295,
   "metadata": {},
   "outputs": [],
   "source": [
    "def part_2(file: str):\n",
    "    def get_diagonal_points(x_1, y_1, x_2, y_2):\n",
    "        if x_1 > x_2:\n",
    "            x_1, y_1, x_2, y_2 = x_2, y_2, x_1, y_1\n",
    "            \n",
    "        result = []\n",
    "        slope = (y_2 - y_1) // (x_2 - x_1)\n",
    "        \n",
    "        for i, j in zip(range(x_1,x_2), range(y_1,y_2,slope)):\n",
    "            result.append((j,i))\n",
    "        result.append((y_2, x_2))\n",
    "        return result\n",
    "    \n",
    "    data = load_data(file)\n",
    "    max_idx = calculate_matrix_size(data)\n",
    "    board = get_board_df(max_idx)\n",
    "    \n",
    "    for i, d in data.iterrows():\n",
    "             \n",
    "        idx_1 = 'x_1' if d['x_1'] < d['x_2'] else 'x_2'\n",
    "        idx_2 = 'x_1' if idx_1 == 'x_2' else 'x_2'\n",
    "        \n",
    "        idy_1 = 'y_1' if d['y_1'] < d['y_2'] else 'y_2'\n",
    "        idy_2 = 'y_1' if idy_1 == 'y_2' else 'y_2'\n",
    "        if d['x_1'] == d['x_2'] or d['y_1'] == d['y_2']:  \n",
    "            board.iloc[d[idy_1]:d[idy_2]+1,d[idx_1]:d[idx_2]+1] += 1\n",
    "        else:\n",
    "            points = get_diagonal_points(d['x_1'],d['y_1'],d['x_2'],d['y_2'])\n",
    "            for point in points:\n",
    "                board.iloc[point] += 1\n",
    "    counter = 0\n",
    "    for col in board:\n",
    "        counter += board[board[col] >=2].shape[0]\n",
    "    return counter\n",
    "    \n",
    "    "
   ]
  },
  {
   "cell_type": "code",
   "execution_count": 296,
   "metadata": {},
   "outputs": [
    {
     "data": {
      "text/plain": [
       "12"
      ]
     },
     "execution_count": 296,
     "metadata": {},
     "output_type": "execute_result"
    }
   ],
   "source": [
    "part_2('day_5_input_test.txt')"
   ]
  },
  {
   "cell_type": "code",
   "execution_count": 297,
   "metadata": {},
   "outputs": [
    {
     "data": {
      "text/plain": [
       "19929"
      ]
     },
     "execution_count": 297,
     "metadata": {},
     "output_type": "execute_result"
    }
   ],
   "source": [
    "part_2('day_5_input.txt')"
   ]
  },
  {
   "cell_type": "code",
   "execution_count": null,
   "metadata": {},
   "outputs": [],
   "source": []
  }
 ],
 "metadata": {
  "interpreter": {
   "hash": "c9450414bf23f3dd29b5b05a150ab805ddf54e50a477ec96525535ab209d16c9"
  },
  "kernelspec": {
   "display_name": "Python 3.8.10 64-bit ('main': conda)",
   "language": "python",
   "name": "python3"
  },
  "language_info": {
   "codemirror_mode": {
    "name": "ipython",
    "version": 3
   },
   "file_extension": ".py",
   "mimetype": "text/x-python",
   "name": "python",
   "nbconvert_exporter": "python",
   "pygments_lexer": "ipython3",
   "version": "3.8.10"
  },
  "orig_nbformat": 4
 },
 "nbformat": 4,
 "nbformat_minor": 2
}
