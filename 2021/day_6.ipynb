{
 "cells": [
  {
   "cell_type": "code",
   "execution_count": 1,
   "metadata": {},
   "outputs": [],
   "source": [
    "import numpy as np"
   ]
  },
  {
   "cell_type": "markdown",
   "metadata": {},
   "source": [
    "# Part 1"
   ]
  },
  {
   "cell_type": "code",
   "execution_count": 2,
   "metadata": {},
   "outputs": [],
   "source": [
    "def load_data(file:str):\n",
    "    raw = open(file, 'r').read()\n",
    "    raw = raw.split(',')\n",
    "    raw = [int(x) for x in raw]\n",
    "    return raw\n",
    "test_data = load_data('day_6_input_test.txt')\n",
    "data = load_data('day_6_input.txt')"
   ]
  },
  {
   "cell_type": "code",
   "execution_count": 52,
   "metadata": {},
   "outputs": [],
   "source": [
    "def spawn_logic(swarm: list) -> list:\n",
    "    for i,_ in enumerate(swarm):\n",
    "        if swarm[i] == 0:\n",
    "            swarm.append(9)\n",
    "            swarm[i] = 6\n",
    "        else:\n",
    "            swarm[i] -= 1\n",
    "    return swarm"
   ]
  },
  {
   "cell_type": "code",
   "execution_count": 55,
   "metadata": {},
   "outputs": [],
   "source": [
    "tmp = test_data.copy()\n",
    "for day in range(0,256):\n",
    "    spawn_logic(tmp)\n",
    "len(tmp)"
   ]
  },
  {
   "cell_type": "code",
   "execution_count": null,
   "metadata": {},
   "outputs": [],
   "source": [
    "tmp = data.copy()\n",
    "for day in range(0,256):\n",
    "    spawn_logic(tmp)\n",
    "len(tmp)"
   ]
  },
  {
   "cell_type": "markdown",
   "metadata": {},
   "source": [
    "# Part 2"
   ]
  },
  {
   "cell_type": "code",
   "execution_count": 11,
   "metadata": {},
   "outputs": [
    {
     "data": {
      "text/plain": [
       "array([3, 4, 3, 1, 2])"
      ]
     },
     "execution_count": 11,
     "metadata": {},
     "output_type": "execute_result"
    }
   ],
   "source": [
    "tmp = test_data = load_data('day_6_input_test.txt').copy()\n",
    "tmp = np.array(tmp)\n",
    "tmp"
   ]
  },
  {
   "cell_type": "code",
   "execution_count": 17,
   "metadata": {},
   "outputs": [
    {
     "data": {
      "text/plain": [
       "1569108373832"
      ]
     },
     "execution_count": 17,
     "metadata": {},
     "output_type": "execute_result"
    }
   ],
   "source": [
    "tmp = test_data = load_data('day_6_input.txt').copy()\n",
    "tmp = np.array(tmp)\n",
    "d = {}\n",
    "for i in range(0,9):\n",
    "    d[i] = len(tmp[tmp==i])\n",
    "d\n",
    "days = range(0,256)\n",
    "for day in days:\n",
    "    tmp = d[0]\n",
    "    d[0] = 0\n",
    "    for i in range(0,8):\n",
    "        d[i] = d[i+1]\n",
    "        \n",
    "    d[8] = tmp\n",
    "    d[6] += tmp\n",
    "    \n",
    "counter = 0\n",
    "for i in d.keys():\n",
    "    counter += d[i]\n",
    "counter"
   ]
  },
  {
   "cell_type": "code",
   "execution_count": null,
   "metadata": {},
   "outputs": [],
   "source": []
  }
 ],
 "metadata": {
  "interpreter": {
   "hash": "c9450414bf23f3dd29b5b05a150ab805ddf54e50a477ec96525535ab209d16c9"
  },
  "kernelspec": {
   "display_name": "Python 3.8.10 64-bit ('main': conda)",
   "language": "python",
   "name": "python3"
  },
  "language_info": {
   "codemirror_mode": {
    "name": "ipython",
    "version": 3
   },
   "file_extension": ".py",
   "mimetype": "text/x-python",
   "name": "python",
   "nbconvert_exporter": "python",
   "pygments_lexer": "ipython3",
   "version": "3.8.10"
  },
  "orig_nbformat": 4
 },
 "nbformat": 4,
 "nbformat_minor": 2
}
